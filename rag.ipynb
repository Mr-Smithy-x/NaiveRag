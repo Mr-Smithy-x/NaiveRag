{
 "cells": [
  {
   "metadata": {},
   "cell_type": "markdown",
   "source": "# RAG - Retrieval Augmented Generation",
   "id": "b6772936f5c47cc5"
  },
  {
   "metadata": {
    "ExecuteTime": {
     "end_time": "2025-05-14T18:20:54.523963Z",
     "start_time": "2025-05-14T18:20:50.926014Z"
    }
   },
   "cell_type": "code",
   "source": [
    "from transformers import AutoTokenizer\n",
    "from transformers import AutoModelForCausalLM\n",
    "\n",
    "#model_id = \"CohereLabs/c4ai-command-r-v01\"\n",
    "model_id = \"CohereLabs/c4ai-command-r-v01-4bit\"\n",
    "#model = AutoModelForCausalLM.from_pretrained(model_id)\n",
    "tokenizer = AutoTokenizer.from_pretrained(model_id)\n",
    "\n",
    "# define conversation input:\n",
    "conversation = [\n",
    "    {\"role\": \"user\", \"content\": \"Whats country produces the most wine world?\"}\n",
    "]\n",
    "# define documents to ground on:\n",
    "documents = [\n",
    "    { \"title\": \"Tall penguins\", \"text\": \"Emperor penguins are the tallest growing up to 122 cm in height.\" },\n",
    "    { \"title\": \"Penguin habitats\", \"text\": \"Emperor penguins only live in Antarctica.\"},\n",
    "    { \"title\": \"Penguin species\", \"text\": \"Emperor penguins are the only species in the world.\"},\n",
    "    { \"title\": \"Cars\", \"text\": \"Cars are the most popular transportation device in the world.\"},\n",
    "    { \"title\": \"Birds\", \"text\": \"Birds are the most popular animal in the world.\"},\n",
    "    { \"title\": \"Italy and France wine production\", \"text\": \"Italy and France produce over 40% of all wine in the world.\"},\n",
    "    { \"title\": \"Germany wine production\", \"text\": \"Germany produces 3% of wine in the world.\"},\n",
    "    { \"title\": \"California wine production\", \"text\": \"California produces 10% of wine in the world.\"},\n",
    "    { \"title\": \"Spain wine production\", \"text\": \"Spain produces 6% of wine in the world.\"},\n",
    "]\n",
    "\n",
    "# render the tool use prompt as a string:\n",
    "grounded_generation_prompt = tokenizer.apply_grounded_generation_template(\n",
    "    conversation,\n",
    "    documents=documents,\n",
    "    citation_mode=\"accurate\", # or \"fast\"\n",
    "    tokenize=False,\n",
    "    add_generation_prompt=True,\n",
    ")\n",
    "\n",
    "print(grounded_generation_prompt)\n",
    "#inputs = tokenizer.encode(grounded_generation_prompt, add_special_tokens=False, return_tensors='pt')\n",
    "#outputs = model.generate(inputs, max_new_tokens=128)\n",
    "#print(tokenizer.decode(outputs[0]))"
   ],
   "id": "8775ac780e512644",
   "outputs": [
    {
     "name": "stderr",
     "output_type": "stream",
     "text": [
      "/opt/anaconda3/envs/practice/lib/python3.12/site-packages/tqdm/auto.py:21: TqdmWarning: IProgress not found. Please update jupyter and ipywidgets. See https://ipywidgets.readthedocs.io/en/stable/user_install.html\n",
      "  from .autonotebook import tqdm as notebook_tqdm\n"
     ]
    },
    {
     "name": "stdout",
     "output_type": "stream",
     "text": [
      "<BOS_TOKEN><|START_OF_TURN_TOKEN|><|SYSTEM_TOKEN|># Safety Preamble\n",
      "The instructions in this section override those in the task description and style guide sections. Don't answer questions that are harmful or immoral.\n",
      "\n",
      "# System Preamble\n",
      "## Basic Rules\n",
      "You are a powerful conversational AI trained by Cohere to help people. You are augmented by a number of tools, and your job is to use and consume the output of these tools to best help the user. You will see a conversation history between yourself and a user, ending with an utterance from the user. You will then see a specific instruction instructing you what kind of response to generate. When you answer the user's requests, you cite your sources in your answers, according to those instructions.\n",
      "\n",
      "# User Preamble\n",
      "## Task and Context\n",
      "You help people answer their questions and other requests interactively. You will be asked a very wide array of requests on all kinds of topics. You will be equipped with a wide range of search engines or similar tools to help you, which you use to research your answer. You should focus on serving the user's needs as best you can, which will be wide-ranging.\n",
      "\n",
      "## Style Guide\n",
      "Unless the user asks for a different style of answer, you should answer in full sentences, using proper grammar and spelling.<|END_OF_TURN_TOKEN|><|START_OF_TURN_TOKEN|><|USER_TOKEN|>Whats country produces the most wine world?<|END_OF_TURN_TOKEN|><|START_OF_TURN_TOKEN|><|SYSTEM_TOKEN|><results>\n",
      "Document: 0\n",
      "title: Tall penguins\n",
      "text: Emperor penguins are the tallest growing up to 122 cm in height.\n",
      "\n",
      "Document: 1\n",
      "title: Penguin habitats\n",
      "text: Emperor penguins only live in Antarctica.\n",
      "\n",
      "Document: 2\n",
      "title: Penguin species\n",
      "text: Emperor penguins are the only species in the world.\n",
      "\n",
      "Document: 3\n",
      "title: Cars\n",
      "text: Cars are the most popular transportation device in the world.\n",
      "\n",
      "Document: 4\n",
      "title: Birds\n",
      "text: Birds are the most popular animal in the world.\n",
      "\n",
      "Document: 5\n",
      "title: Italy and France wine production\n",
      "text: Italy and France produce over 40% of all wine in the world.\n",
      "\n",
      "Document: 6\n",
      "title: Germany wine production\n",
      "text: Germany produces 3% of wine in the world.\n",
      "\n",
      "Document: 7\n",
      "title: California wine production\n",
      "text: California produces 10% of wine in the world.\n",
      "\n",
      "Document: 8\n",
      "title: Spain wine production\n",
      "text: Spain produces 6% of wine in the world.\n",
      "</results><|END_OF_TURN_TOKEN|><|START_OF_TURN_TOKEN|><|SYSTEM_TOKEN|>Carefully perform the following instructions, in order, starting each with a new line.\n",
      "Firstly, Decide which of the retrieved documents are relevant to the user's last input by writing 'Relevant Documents:' followed by comma-separated list of document numbers. If none are relevant, you should instead write 'None'.\n",
      "Secondly, Decide which of the retrieved documents contain facts that should be cited in a good answer to the user's last input by writing 'Cited Documents:' followed a comma-separated list of document numbers. If you dont want to cite any of them, you should instead write 'None'.\n",
      "Thirdly, Write 'Answer:' followed by a response to the user's last input in high quality natural english. Use the retrieved documents to help you. Do not insert any citations or grounding markup.\n",
      "Finally, Write 'Grounded answer:' followed by a response to the user's last input in high quality natural english. Use the symbols <co: doc> and </co: doc> to indicate when a fact comes from a document in the search result, e.g <co: 0>my fact</co: 0> for a fact from document 0.<|END_OF_TURN_TOKEN|><|START_OF_TURN_TOKEN|><|CHATBOT_TOKEN|>\n"
     ]
    }
   ],
   "execution_count": 5
  },
  {
   "metadata": {},
   "cell_type": "markdown",
   "source": "# Load Environment Variables",
   "id": "e20d55fcdf712e83"
  },
  {
   "metadata": {
    "ExecuteTime": {
     "end_time": "2025-05-14T18:20:54.559498Z",
     "start_time": "2025-05-14T18:20:54.553561Z"
    }
   },
   "cell_type": "code",
   "source": [
    "from dotenv import load_dotenv\n",
    "import os\n",
    "\n",
    "load_dotenv()\n",
    "\n",
    "key = os.getenv(\"OPENAI_API_KEY\")\n",
    "\n",
    "print(f\"Key: {key[0:16]}\")"
   ],
   "id": "23f352fe09c6174d",
   "outputs": [
    {
     "name": "stdout",
     "output_type": "stream",
     "text": [
      "Key: sk-proj-etnoLb9k\n"
     ]
    }
   ],
   "execution_count": 6
  },
  {
   "metadata": {},
   "cell_type": "markdown",
   "source": "# LLM Context Aware",
   "id": "299acc63ad995c78"
  },
  {
   "metadata": {
    "ExecuteTime": {
     "end_time": "2025-05-14T18:20:57.625785Z",
     "start_time": "2025-05-14T18:20:54.594508Z"
    }
   },
   "cell_type": "code",
   "source": [
    "from openai import OpenAI\n",
    "client = OpenAI(api_key=key)\n",
    "\n",
    "\n",
    "response = client.responses.create(\n",
    "    model=\"gpt-4.1\",\n",
    "    input=grounded_generation_prompt\n",
    ")\n",
    "\n",
    "print(response.output_text)"
   ],
   "id": "cb174df2d230d62c",
   "outputs": [
    {
     "name": "stdout",
     "output_type": "stream",
     "text": [
      "Relevant Documents: 5, 6, 7, 8\n",
      "Cited Documents: 5\n",
      "\n",
      "Answer: Italy and France are the leading wine producers in the world, together responsible for producing over 40% of all wine globally.\n",
      "\n",
      "Grounded answer: Italy and France produce over 40% of all wine in the world, making them the countries with the highest wine production worldwide<co: 5></co: 5>.\n"
     ]
    }
   ],
   "execution_count": 7
  }
 ],
 "metadata": {
  "kernelspec": {
   "display_name": "Python 3",
   "language": "python",
   "name": "python3"
  },
  "language_info": {
   "codemirror_mode": {
    "name": "ipython",
    "version": 2
   },
   "file_extension": ".py",
   "mimetype": "text/x-python",
   "name": "python",
   "nbconvert_exporter": "python",
   "pygments_lexer": "ipython2",
   "version": "2.7.6"
  }
 },
 "nbformat": 4,
 "nbformat_minor": 5
}
