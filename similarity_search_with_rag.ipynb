{
 "cells": [
  {
   "metadata": {},
   "cell_type": "markdown",
   "source": [
    "# Similarity Search with Transformers + RAG\n",
    "implementing a similarity search using:\n",
    "\n",
    "- Mocked text data\n",
    "- Hugging Face transformers for embeddings\n",
    "- Pandas for data management\n",
    "- Cosine similarity for ranking results\n",
    "- LLM Prompt Engineering"
   ],
   "id": "65dc9b1e2bd66329"
  },
  {
   "metadata": {},
   "cell_type": "markdown",
   "source": [
    "\n",
    "#### 1. Setup and Imports\n",
    "First, let's import the necessary libraries:"
   ],
   "id": "4920884366d52337"
  },
  {
   "metadata": {
    "ExecuteTime": {
     "end_time": "2025-05-15T03:42:42.256755Z",
     "start_time": "2025-05-15T03:42:42.228619Z"
    }
   },
   "cell_type": "code",
   "source": [
    "import numpy as np\n",
    "import pandas as pd\n",
    "from transformers import AutoTokenizer, AutoModel\n",
    "import torch\n",
    "from sklearn.metrics.pairwise import cosine_similarity\n",
    "from typing import List, Dict, Tuple\n",
    "\n",
    "# Set random seed for reproducibility\n",
    "np.random.seed(42)\n",
    "torch.manual_seed(42)"
   ],
   "id": "e89231a6c0ebf909",
   "outputs": [
    {
     "data": {
      "text/plain": [
       "<torch._C.Generator at 0x14f5318f0>"
      ]
     },
     "execution_count": 15,
     "metadata": {},
     "output_type": "execute_result"
    }
   ],
   "execution_count": 15
  },
  {
   "metadata": {},
   "cell_type": "markdown",
   "source": [
    "#### 2. Define Embedding Function\n",
    "This function will convert text to vector embeddings using the transformer model:"
   ],
   "id": "59c391f384b58e1"
  },
  {
   "metadata": {
    "ExecuteTime": {
     "end_time": "2025-05-15T03:42:42.268391Z",
     "start_time": "2025-05-15T03:42:42.261129Z"
    }
   },
   "cell_type": "code",
   "source": [
    "def get_embedding(text, tokenizer, model):\n",
    "    \"\"\"\n",
    "    Convert text to embeddings using a transformer model.\n",
    "\n",
    "    Args:\n",
    "        text (str): Input text\n",
    "        tokenizer: Hugging Face tokenizer\n",
    "        model: Hugging Face model\n",
    "\n",
    "    Returns:\n",
    "        np.ndarray: The embedding vector\n",
    "    \"\"\"\n",
    "    # Tokenize the text and convert to tensor\n",
    "    inputs = tokenizer(text, return_tensors=\"pt\", padding=True, truncation=True, max_length=512)\n",
    "\n",
    "    # Get model output\n",
    "    with torch.no_grad():\n",
    "        outputs = model(**inputs)\n",
    "\n",
    "    # Use mean pooling to get a single vector representation\n",
    "    attention_mask = inputs['attention_mask']\n",
    "    token_embeddings = outputs.last_hidden_state\n",
    "\n",
    "    # Calculate mean of token embeddings weighted by attention mask\n",
    "    input_mask_expanded = attention_mask.unsqueeze(-1).expand(token_embeddings.size()).float()\n",
    "    embeddings = torch.sum(token_embeddings * input_mask_expanded, 1) / torch.clamp(input_mask_expanded.sum(1), min=1e-9)\n",
    "\n",
    "    return embeddings.numpy()"
   ],
   "id": "acb2fb53be3f9a07",
   "outputs": [],
   "execution_count": 16
  },
  {
   "metadata": {},
   "cell_type": "markdown",
   "source": [
    "#### 3. Create Mock Data\n",
    "Now let's generate some mock text data for our similarity search:"
   ],
   "id": "9c0ed00c9921fc1b"
  },
  {
   "metadata": {
    "ExecuteTime": {
     "end_time": "2025-05-15T03:42:42.361702Z",
     "start_time": "2025-05-15T03:42:42.356644Z"
    }
   },
   "cell_type": "code",
   "source": [
    "def create_mock_data(num_documents=20):\n",
    "    \"\"\"\n",
    "    Create mock text data for similarity search.\n",
    "\n",
    "    Args:\n",
    "        num_documents (int): Number of documents to create\n",
    "\n",
    "    Returns:\n",
    "        pd.DataFrame: DataFrame with documents and metadata\n",
    "    \"\"\"\n",
    "    topics = [\n",
    "        \"artificial intelligence and machine learning\",\n",
    "        \"climate change and environmental sustainability\",\n",
    "        \"renewable energy technologies\",\n",
    "        \"space exploration and astronomy\",\n",
    "        \"quantum computing and physics\",\n",
    "        \"biotechnology and genetic engineering\",\n",
    "        \"cryptocurrency and blockchain technology\",\n",
    "        \"cybersecurity and data privacy\"\n",
    "    ]\n",
    "\n",
    "    documents = []\n",
    "    main_topics = []\n",
    "    additional_topics_list = []\n",
    "\n",
    "    for i in range(num_documents):\n",
    "        # Select a random topic as the main subject\n",
    "        main_topic = np.random.choice(topics)\n",
    "        main_topics.append(main_topic)\n",
    "\n",
    "        # Select 0-2 additional topics to blend in\n",
    "        num_additional = np.random.randint(0, 3)\n",
    "        additional_topics = np.random.choice(\n",
    "            [t for t in topics if t != main_topic],\n",
    "            size=min(num_additional, len(topics)-1),\n",
    "            replace=False\n",
    "        )\n",
    "        additional_topics_list.append(list(additional_topics))\n",
    "\n",
    "        # Create a document about the topic(s)\n",
    "        doc = f\"This text discusses {main_topic}\"\n",
    "        if len(additional_topics) > 0:\n",
    "            doc += f\" with connections to {' and '.join(additional_topics)}\"\n",
    "        doc += \".\"\n",
    "\n",
    "        # Add some random sentences\n",
    "        sentences = [\n",
    "            \"The latest research in this field shows promising results.\",\n",
    "            \"Many experts consider this area crucial for future development.\",\n",
    "            \"Recent advances have accelerated progress significantly.\",\n",
    "            \"This subject has gained considerable attention in recent years.\",\n",
    "            \"There are still many unanswered questions in this domain.\",\n",
    "            \"Interdisciplinary approaches are proving valuable in this context.\"\n",
    "        ]\n",
    "\n",
    "        # Add 1-3 random sentences\n",
    "        for _ in range(np.random.randint(1, 4)):\n",
    "            doc += \" \" + np.random.choice(sentences)\n",
    "\n",
    "        documents.append(doc)\n",
    "\n",
    "    # Create a DataFrame with documents and metadata\n",
    "    documents_df = pd.DataFrame({\n",
    "        \"document_id\": range(num_documents),\n",
    "        \"text\": documents,\n",
    "        \"main_topic\": main_topics,\n",
    "        \"additional_topics\": additional_topics_list,\n",
    "        \"created_at\": pd.Timestamp.now()\n",
    "    })\n",
    "\n",
    "    return documents_df"
   ],
   "id": "e0bd06f7508cf5b8",
   "outputs": [],
   "execution_count": 17
  },
  {
   "metadata": {},
   "cell_type": "markdown",
   "source": [
    "#### 4. Load Model and Create Documents\n",
    "Load the transformer model and create our mock document collection:"
   ],
   "id": "cdff2b7b101c2de0"
  },
  {
   "metadata": {
    "ExecuteTime": {
     "end_time": "2025-05-15T03:42:42.973941Z",
     "start_time": "2025-05-15T03:42:42.377886Z"
    }
   },
   "cell_type": "code",
   "source": [
    "# Load tokenizer and model\n",
    "print(\"Loading transformer model...\")\n",
    "model_name = \"sentence-transformers/all-MiniLM-L6-v2\"\n",
    "tokenizer = AutoTokenizer.from_pretrained(model_name)\n",
    "model = AutoModel.from_pretrained(model_name)\n",
    "\n",
    "# Create mock data\n",
    "print(\"Creating mock documents...\")\n",
    "documents_df = create_mock_data(num_documents=15)\n",
    "\n",
    "# Display sample documents\n",
    "print(f\"\\nCreated {len(documents_df)} mock documents.\")\n",
    "documents_df[[\"document_id\", \"text\", \"main_topic\"]].head(3)"
   ],
   "id": "c6039a71121fc22e",
   "outputs": [
    {
     "name": "stdout",
     "output_type": "stream",
     "text": [
      "Loading transformer model...\n",
      "Creating mock documents...\n",
      "\n",
      "Created 15 mock documents.\n"
     ]
    },
    {
     "data": {
      "text/plain": [
       "   document_id                                               text  \\\n",
       "0            0  This text discusses cryptocurrency and blockch...   \n",
       "1            1  This text discusses space exploration and astr...   \n",
       "2            2  This text discusses artificial intelligence an...   \n",
       "\n",
       "                                     main_topic  \n",
       "0      cryptocurrency and blockchain technology  \n",
       "1               space exploration and astronomy  \n",
       "2  artificial intelligence and machine learning  "
      ],
      "text/html": [
       "<div>\n",
       "<style scoped>\n",
       "    .dataframe tbody tr th:only-of-type {\n",
       "        vertical-align: middle;\n",
       "    }\n",
       "\n",
       "    .dataframe tbody tr th {\n",
       "        vertical-align: top;\n",
       "    }\n",
       "\n",
       "    .dataframe thead th {\n",
       "        text-align: right;\n",
       "    }\n",
       "</style>\n",
       "<table border=\"1\" class=\"dataframe\">\n",
       "  <thead>\n",
       "    <tr style=\"text-align: right;\">\n",
       "      <th></th>\n",
       "      <th>document_id</th>\n",
       "      <th>text</th>\n",
       "      <th>main_topic</th>\n",
       "    </tr>\n",
       "  </thead>\n",
       "  <tbody>\n",
       "    <tr>\n",
       "      <th>0</th>\n",
       "      <td>0</td>\n",
       "      <td>This text discusses cryptocurrency and blockch...</td>\n",
       "      <td>cryptocurrency and blockchain technology</td>\n",
       "    </tr>\n",
       "    <tr>\n",
       "      <th>1</th>\n",
       "      <td>1</td>\n",
       "      <td>This text discusses space exploration and astr...</td>\n",
       "      <td>space exploration and astronomy</td>\n",
       "    </tr>\n",
       "    <tr>\n",
       "      <th>2</th>\n",
       "      <td>2</td>\n",
       "      <td>This text discusses artificial intelligence an...</td>\n",
       "      <td>artificial intelligence and machine learning</td>\n",
       "    </tr>\n",
       "  </tbody>\n",
       "</table>\n",
       "</div>"
      ]
     },
     "execution_count": 18,
     "metadata": {},
     "output_type": "execute_result"
    }
   ],
   "execution_count": 18
  },
  {
   "metadata": {},
   "cell_type": "markdown",
   "source": [
    "#### 5. Create Document Embeddings\n",
    "Index all documents by converting them to embeddings:"
   ],
   "id": "c326e7b4283d39b0"
  },
  {
   "metadata": {
    "ExecuteTime": {
     "end_time": "2025-05-15T03:53:35.900902Z",
     "start_time": "2025-05-15T03:53:35.738995Z"
    }
   },
   "cell_type": "code",
   "source": [
    "def index_documents(documents_df, tokenizer, model):\n",
    "    \"\"\"\n",
    "    Create embeddings for all documents in the collection.\n",
    "\n",
    "    Args:\n",
    "        documents_df (pd.DataFrame): DataFrame containing documents\n",
    "        tokenizer: Hugging Face tokenizer\n",
    "        model: Hugging Face model\n",
    "\n",
    "    Returns:\n",
    "        tuple: (document texts list, embeddings matrix)\n",
    "    \"\"\"\n",
    "    documents = documents_df['text'].tolist()\n",
    "    all_embeddings = []\n",
    "\n",
    "    print(f\"Indexing {len(documents)} documents...\")\n",
    "    for doc in documents:\n",
    "        embedding = get_embedding(doc, tokenizer, model)\n",
    "        all_embeddings.append(embedding[0])\n",
    "\n",
    "    return documents, np.array(all_embeddings)\n",
    "\n",
    "# Create embeddings for all documents\n",
    "documents, embeddings = index_documents(documents_df, tokenizer, model)\n",
    "print(f\"Created embeddings with shape: {embeddings.shape}\")\n",
    "documents"
   ],
   "id": "88dcefa5b33a545d",
   "outputs": [
    {
     "name": "stdout",
     "output_type": "stream",
     "text": [
      "Indexing 15 documents...\n",
      "Created embeddings with shape: (15, 384)\n"
     ]
    },
    {
     "data": {
      "text/plain": [
       "['This text discusses cryptocurrency and blockchain technology. Recent advances have accelerated progress significantly. Recent advances have accelerated progress significantly. There are still many unanswered questions in this domain.',\n",
       " 'This text discusses space exploration and astronomy with connections to artificial intelligence and machine learning and renewable energy technologies. This subject has gained considerable attention in recent years. There are still many unanswered questions in this domain.',\n",
       " 'This text discusses artificial intelligence and machine learning with connections to renewable energy technologies. Many experts consider this area crucial for future development. This subject has gained considerable attention in recent years. This subject has gained considerable attention in recent years.',\n",
       " 'This text discusses cybersecurity and data privacy with connections to artificial intelligence and machine learning and climate change and environmental sustainability. Recent advances have accelerated progress significantly.',\n",
       " 'This text discusses quantum computing and physics with connections to cryptocurrency and blockchain technology and space exploration and astronomy. This subject has gained considerable attention in recent years.',\n",
       " 'This text discusses biotechnology and genetic engineering with connections to space exploration and astronomy. This subject has gained considerable attention in recent years. This subject has gained considerable attention in recent years. There are still many unanswered questions in this domain.',\n",
       " 'This text discusses cybersecurity and data privacy with connections to quantum computing and physics and cryptocurrency and blockchain technology. Interdisciplinary approaches are proving valuable in this context. Interdisciplinary approaches are proving valuable in this context.',\n",
       " 'This text discusses biotechnology and genetic engineering with connections to artificial intelligence and machine learning. Many experts consider this area crucial for future development. Interdisciplinary approaches are proving valuable in this context.',\n",
       " 'This text discusses space exploration and astronomy with connections to biotechnology and genetic engineering. There are still many unanswered questions in this domain.',\n",
       " 'This text discusses climate change and environmental sustainability with connections to cryptocurrency and blockchain technology and space exploration and astronomy. There are still many unanswered questions in this domain.',\n",
       " 'This text discusses artificial intelligence and machine learning. The latest research in this field shows promising results. Recent advances have accelerated progress significantly. Recent advances have accelerated progress significantly.',\n",
       " 'This text discusses artificial intelligence and machine learning with connections to cybersecurity and data privacy and quantum computing and physics. The latest research in this field shows promising results. Interdisciplinary approaches are proving valuable in this context.',\n",
       " 'This text discusses cybersecurity and data privacy. Interdisciplinary approaches are proving valuable in this context.',\n",
       " 'This text discusses renewable energy technologies. Many experts consider this area crucial for future development. This subject has gained considerable attention in recent years.',\n",
       " 'This text discusses quantum computing and physics with connections to renewable energy technologies and biotechnology and genetic engineering. There are still many unanswered questions in this domain. Recent advances have accelerated progress significantly. There are still many unanswered questions in this domain.']"
      ]
     },
     "execution_count": 44,
     "metadata": {},
     "output_type": "execute_result"
    }
   ],
   "execution_count": 44
  },
  {
   "metadata": {},
   "cell_type": "markdown",
   "source": "#### And Embeddings",
   "id": "269083717b2a509"
  },
  {
   "metadata": {
    "ExecuteTime": {
     "end_time": "2025-05-15T03:53:38.667474Z",
     "start_time": "2025-05-15T03:53:38.660602Z"
    }
   },
   "cell_type": "code",
   "source": "embeddings",
   "id": "1111621fe4d57127",
   "outputs": [
    {
     "data": {
      "text/plain": [
       "array([[-0.12960419,  0.07923365, -0.02694061, ..., -0.2475112 ,\n",
       "         0.21094798,  0.09393626],\n",
       "       [-0.10104501, -0.07355984,  0.25606272, ..., -0.04953708,\n",
       "        -0.2613638 , -0.14020362],\n",
       "       [-0.21012706,  0.16488267,  0.15863587, ...,  0.02854178,\n",
       "        -0.15110308, -0.05248622],\n",
       "       ...,\n",
       "       [-0.17720748,  0.04211153, -0.24099883, ...,  0.09658027,\n",
       "        -0.13010383, -0.18497162],\n",
       "       [-0.13413687,  0.17052114, -0.02972368, ...,  0.02687953,\n",
       "        -0.09316618,  0.0830415 ],\n",
       "       [-0.39279035,  0.0569226 , -0.06339079, ..., -0.06978017,\n",
       "        -0.01875225,  0.00104717]], dtype=float32)"
      ]
     },
     "execution_count": 45,
     "metadata": {},
     "output_type": "execute_result"
    }
   ],
   "execution_count": 45
  },
  {
   "metadata": {},
   "cell_type": "markdown",
   "source": [
    "#### 6. Implement Search Function\n",
    "Now let's implement the similarity search function:"
   ],
   "id": "a18b6ade24b463c7"
  },
  {
   "metadata": {
    "ExecuteTime": {
     "end_time": "2025-05-15T03:42:43.301300Z",
     "start_time": "2025-05-15T03:42:43.298488Z"
    }
   },
   "cell_type": "code",
   "source": [
    "def search(query, documents, embeddings, documents_df, tokenizer, model, top_k=5):\n",
    "    \"\"\"\n",
    "    Search for documents similar to the query.\n",
    "\n",
    "    Args:\n",
    "        query (str): Search query\n",
    "        documents (list): List of document texts\n",
    "        embeddings (np.ndarray): Matrix of document embeddings\n",
    "        documents_df (pd.DataFrame): DataFrame with document metadata\n",
    "        tokenizer: Hugging Face tokenizer\n",
    "        model: Hugging Face model\n",
    "        top_k (int): Number of top results to return\n",
    "\n",
    "    Returns:\n",
    "        pd.DataFrame: DataFrame containing search results\n",
    "    \"\"\"\n",
    "    # Get embedding for the query\n",
    "    query_embedding = get_embedding(query, tokenizer, model)\n",
    "\n",
    "    # Calculate cosine similarity between query and all documents\n",
    "    similarities = cosine_similarity(query_embedding, embeddings)[0]\n",
    "\n",
    "    # Get indices of top_k most similar documents\n",
    "    top_indices = np.argsort(similarities)[::-1][:top_k]\n",
    "\n",
    "    # Prepare results using pandas\n",
    "    results_data = []\n",
    "    for idx in top_indices:\n",
    "        results_data.append({\n",
    "            \"document_id\": idx,\n",
    "            \"similarity\": round(float(similarities[idx]), 4),\n",
    "            \"text\": documents[idx],\n",
    "            \"main_topic\": documents_df.loc[idx, \"main_topic\"],\n",
    "            \"additional_topics\": documents_df.loc[idx, \"additional_topics\"]\n",
    "        })\n",
    "\n",
    "    results_df = pd.DataFrame(results_data)\n",
    "    return results_df"
   ],
   "id": "a2c7ed9a3802543",
   "outputs": [],
   "execution_count": 20
  },
  {
   "metadata": {},
   "cell_type": "markdown",
   "source": [
    "#### 7. Search and Analyze Results\n",
    "Let's perform some searches and analyze the results:"
   ],
   "id": "b93f9743cfad7aeb"
  },
  {
   "metadata": {
    "ExecuteTime": {
     "end_time": "2025-05-15T03:42:43.342081Z",
     "start_time": "2025-05-15T03:42:43.316304Z"
    }
   },
   "cell_type": "code",
   "source": [
    "# Example search query\n",
    "query = \"artificial intelligence applications in business\"\n",
    "print(f\"Searching for: '{query}'\")\n",
    "\n",
    "# Perform search\n",
    "results_df = search(query, documents, embeddings, documents_df, tokenizer, model, top_k=3)\n",
    "\n",
    "# Display results\n",
    "print(\"\\nSearch Results:\")\n",
    "display(results_df[[\"similarity\", \"text\"]])\n",
    "\n",
    "# Display topics in results\n",
    "print(\"\\nTopics in Results:\")\n",
    "display(results_df[[\"document_id\", \"main_topic\", \"additional_topics\"]])\n",
    "\n",
    "# Analyze results\n",
    "print(f\"\\nAverage similarity score: {results_df['similarity'].mean():.4f}\")\n",
    "print(f\"Topics covered in results: {results_df['main_topic'].unique()}\")"
   ],
   "id": "85d43238f5e1619b",
   "outputs": [
    {
     "name": "stdout",
     "output_type": "stream",
     "text": [
      "Searching for: 'artificial intelligence applications in business'\n",
      "\n",
      "Search Results:\n"
     ]
    },
    {
     "data": {
      "text/plain": [
       "   similarity                                               text\n",
       "0      0.4528  This text discusses artificial intelligence an...\n",
       "1      0.4057  This text discusses artificial intelligence an...\n",
       "2      0.3165  This text discusses biotechnology and genetic ..."
      ],
      "text/html": [
       "<div>\n",
       "<style scoped>\n",
       "    .dataframe tbody tr th:only-of-type {\n",
       "        vertical-align: middle;\n",
       "    }\n",
       "\n",
       "    .dataframe tbody tr th {\n",
       "        vertical-align: top;\n",
       "    }\n",
       "\n",
       "    .dataframe thead th {\n",
       "        text-align: right;\n",
       "    }\n",
       "</style>\n",
       "<table border=\"1\" class=\"dataframe\">\n",
       "  <thead>\n",
       "    <tr style=\"text-align: right;\">\n",
       "      <th></th>\n",
       "      <th>similarity</th>\n",
       "      <th>text</th>\n",
       "    </tr>\n",
       "  </thead>\n",
       "  <tbody>\n",
       "    <tr>\n",
       "      <th>0</th>\n",
       "      <td>0.4528</td>\n",
       "      <td>This text discusses artificial intelligence an...</td>\n",
       "    </tr>\n",
       "    <tr>\n",
       "      <th>1</th>\n",
       "      <td>0.4057</td>\n",
       "      <td>This text discusses artificial intelligence an...</td>\n",
       "    </tr>\n",
       "    <tr>\n",
       "      <th>2</th>\n",
       "      <td>0.3165</td>\n",
       "      <td>This text discusses biotechnology and genetic ...</td>\n",
       "    </tr>\n",
       "  </tbody>\n",
       "</table>\n",
       "</div>"
      ]
     },
     "metadata": {},
     "output_type": "display_data"
    },
    {
     "name": "stdout",
     "output_type": "stream",
     "text": [
      "\n",
      "Topics in Results:\n"
     ]
    },
    {
     "data": {
      "text/plain": [
       "   document_id                                    main_topic  \\\n",
       "0           10  artificial intelligence and machine learning   \n",
       "1            2  artificial intelligence and machine learning   \n",
       "2            7         biotechnology and genetic engineering   \n",
       "\n",
       "                                additional_topics  \n",
       "0                                              []  \n",
       "1                 [renewable energy technologies]  \n",
       "2  [artificial intelligence and machine learning]  "
      ],
      "text/html": [
       "<div>\n",
       "<style scoped>\n",
       "    .dataframe tbody tr th:only-of-type {\n",
       "        vertical-align: middle;\n",
       "    }\n",
       "\n",
       "    .dataframe tbody tr th {\n",
       "        vertical-align: top;\n",
       "    }\n",
       "\n",
       "    .dataframe thead th {\n",
       "        text-align: right;\n",
       "    }\n",
       "</style>\n",
       "<table border=\"1\" class=\"dataframe\">\n",
       "  <thead>\n",
       "    <tr style=\"text-align: right;\">\n",
       "      <th></th>\n",
       "      <th>document_id</th>\n",
       "      <th>main_topic</th>\n",
       "      <th>additional_topics</th>\n",
       "    </tr>\n",
       "  </thead>\n",
       "  <tbody>\n",
       "    <tr>\n",
       "      <th>0</th>\n",
       "      <td>10</td>\n",
       "      <td>artificial intelligence and machine learning</td>\n",
       "      <td>[]</td>\n",
       "    </tr>\n",
       "    <tr>\n",
       "      <th>1</th>\n",
       "      <td>2</td>\n",
       "      <td>artificial intelligence and machine learning</td>\n",
       "      <td>[renewable energy technologies]</td>\n",
       "    </tr>\n",
       "    <tr>\n",
       "      <th>2</th>\n",
       "      <td>7</td>\n",
       "      <td>biotechnology and genetic engineering</td>\n",
       "      <td>[artificial intelligence and machine learning]</td>\n",
       "    </tr>\n",
       "  </tbody>\n",
       "</table>\n",
       "</div>"
      ]
     },
     "metadata": {},
     "output_type": "display_data"
    },
    {
     "name": "stdout",
     "output_type": "stream",
     "text": [
      "\n",
      "Average similarity score: 0.3917\n",
      "Topics covered in results: [np.str_('artificial intelligence and machine learning')\n",
      " np.str_('biotechnology and genetic engineering')]\n"
     ]
    }
   ],
   "execution_count": 21
  },
  {
   "metadata": {},
   "cell_type": "markdown",
   "source": [
    "#### 8. Visualization\n",
    "Let's visualize the results:"
   ],
   "id": "c62dc72ef622b3f"
  },
  {
   "metadata": {
    "ExecuteTime": {
     "end_time": "2025-05-15T03:42:43.536513Z",
     "start_time": "2025-05-15T03:42:43.438429Z"
    }
   },
   "cell_type": "code",
   "source": [
    "import matplotlib.pyplot as plt\n",
    "import seaborn as sns\n",
    "\n",
    "# Set seaborn style\n",
    "sns.set(style=\"whitegrid\")\n",
    "\n",
    "plt.figure(figsize=(10, 6))\n",
    "sns.barplot(x='document_id', y='similarity', data=results_df)\n",
    "plt.title('Document Similarity Scores')\n",
    "plt.xlabel('Document ID')\n",
    "plt.ylabel('Similarity Score')\n",
    "plt.tight_layout()\n",
    "plt.show()"
   ],
   "id": "26f6433fceb74ec8",
   "outputs": [
    {
     "data": {
      "text/plain": [
       "<Figure size 1000x600 with 1 Axes>"
      ],
      "image/png": "[encoded data removed]"
     },
     "metadata": {},
     "output_type": "display_data"
    }
   ],
   "execution_count": 22
  },
  {
   "metadata": {},
   "cell_type": "markdown",
   "source": [
    "#### 9. Try Multiple Queries\n",
    "Let's try a few different search queries to see how results vary:"
   ],
   "id": "3a4b167a92cb2dfd"
  },
  {
   "metadata": {
    "ExecuteTime": {
     "end_time": "2025-05-15T03:42:43.712536Z",
     "start_time": "2025-05-15T03:42:43.621348Z"
    }
   },
   "cell_type": "code",
   "source": [
    "# List of queries to try\n",
    "sample_queries = [\n",
    "    \"Tell me about artificial intelligence\",\n",
    "    \"Why is renewable energy necessary\",\n",
    "    \"Why is cybersecurity important?\",\n",
    "    \"What space can you do quantum computing in?\"\n",
    "]\n",
    "\n",
    "# Search for each query and display results\n",
    "for query in sample_queries:\n",
    "    print(f\"\\n\\n--- Searching for: '{query}' ---\")\n",
    "    results_df = search(query, documents, embeddings, documents_df, tokenizer, model, top_k=3)\n",
    "\n",
    "    print(\"\\nTop 3 Results:\")\n",
    "    display(results_df[[\"similarity\", \"text\"]])\n",
    "\n",
    "    # Show topic distribution\n",
    "    print(\"\\nTopic Distribution:\")\n",
    "    topic_counts = results_df['main_topic'].value_counts()\n",
    "    display(topic_counts)\n",
    "\n",
    "    # Display a separator\n",
    "    print(\"-\" * 80)"
   ],
   "id": "3279005eebe39465",
   "outputs": [
    {
     "name": "stdout",
     "output_type": "stream",
     "text": [
      "\n",
      "\n",
      "--- Searching for: 'Tell me about artificial intelligence' ---\n",
      "\n",
      "Top 3 Results:\n"
     ]
    },
    {
     "data": {
      "text/plain": [
       "   similarity                                               text\n",
       "0      0.4415  This text discusses artificial intelligence an...\n",
       "1      0.4123  This text discusses biotechnology and genetic ...\n",
       "2      0.3850  This text discusses space exploration and astr..."
      ],
      "text/html": [
       "<div>\n",
       "<style scoped>\n",
       "    .dataframe tbody tr th:only-of-type {\n",
       "        vertical-align: middle;\n",
       "    }\n",
       "\n",
       "    .dataframe tbody tr th {\n",
       "        vertical-align: top;\n",
       "    }\n",
       "\n",
       "    .dataframe thead th {\n",
       "        text-align: right;\n",
       "    }\n",
       "</style>\n",
       "<table border=\"1\" class=\"dataframe\">\n",
       "  <thead>\n",
       "    <tr style=\"text-align: right;\">\n",
       "      <th></th>\n",
       "      <th>similarity</th>\n",
       "      <th>text</th>\n",
       "    </tr>\n",
       "  </thead>\n",
       "  <tbody>\n",
       "    <tr>\n",
       "      <th>0</th>\n",
       "      <td>0.4415</td>\n",
       "      <td>This text discusses artificial intelligence an...</td>\n",
       "    </tr>\n",
       "    <tr>\n",
       "      <th>1</th>\n",
       "      <td>0.4123</td>\n",
       "      <td>This text discusses biotechnology and genetic ...</td>\n",
       "    </tr>\n",
       "    <tr>\n",
       "      <th>2</th>\n",
       "      <td>0.3850</td>\n",
       "      <td>This text discusses space exploration and astr...</td>\n",
       "    </tr>\n",
       "  </tbody>\n",
       "</table>\n",
       "</div>"
      ]
     },
     "metadata": {},
     "output_type": "display_data"
    },
    {
     "name": "stdout",
     "output_type": "stream",
     "text": [
      "\n",
      "Topic Distribution:\n"
     ]
    },
    {
     "data": {
      "text/plain": [
       "main_topic\n",
       "artificial intelligence and machine learning    1\n",
       "biotechnology and genetic engineering           1\n",
       "space exploration and astronomy                 1\n",
       "Name: count, dtype: int64"
      ]
     },
     "metadata": {},
     "output_type": "display_data"
    },
    {
     "name": "stdout",
     "output_type": "stream",
     "text": [
      "--------------------------------------------------------------------------------\n",
      "\n",
      "\n",
      "--- Searching for: 'Why is renewable energy necessary' ---\n",
      "\n",
      "Top 3 Results:\n"
     ]
    },
    {
     "data": {
      "text/plain": [
       "   similarity                                               text\n",
       "0      0.5336  This text discusses renewable energy technolog...\n",
       "1      0.4732  This text discusses artificial intelligence an...\n",
       "2      0.2377  This text discusses space exploration and astr..."
      ],
      "text/html": [
       "<div>\n",
       "<style scoped>\n",
       "    .dataframe tbody tr th:only-of-type {\n",
       "        vertical-align: middle;\n",
       "    }\n",
       "\n",
       "    .dataframe tbody tr th {\n",
       "        vertical-align: top;\n",
       "    }\n",
       "\n",
       "    .dataframe thead th {\n",
       "        text-align: right;\n",
       "    }\n",
       "</style>\n",
       "<table border=\"1\" class=\"dataframe\">\n",
       "  <thead>\n",
       "    <tr style=\"text-align: right;\">\n",
       "      <th></th>\n",
       "      <th>similarity</th>\n",
       "      <th>text</th>\n",
       "    </tr>\n",
       "  </thead>\n",
       "  <tbody>\n",
       "    <tr>\n",
       "      <th>0</th>\n",
       "      <td>0.5336</td>\n",
       "      <td>This text discusses renewable energy technolog...</td>\n",
       "    </tr>\n",
       "    <tr>\n",
       "      <th>1</th>\n",
       "      <td>0.4732</td>\n",
       "      <td>This text discusses artificial intelligence an...</td>\n",
       "    </tr>\n",
       "    <tr>\n",
       "      <th>2</th>\n",
       "      <td>0.2377</td>\n",
       "      <td>This text discusses space exploration and astr...</td>\n",
       "    </tr>\n",
       "  </tbody>\n",
       "</table>\n",
       "</div>"
      ]
     },
     "metadata": {},
     "output_type": "display_data"
    },
    {
     "name": "stdout",
     "output_type": "stream",
     "text": [
      "\n",
      "Topic Distribution:\n"
     ]
    },
    {
     "data": {
      "text/plain": [
       "main_topic\n",
       "renewable energy technologies                   1\n",
       "artificial intelligence and machine learning    1\n",
       "space exploration and astronomy                 1\n",
       "Name: count, dtype: int64"
      ]
     },
     "metadata": {},
     "output_type": "display_data"
    },
    {
     "name": "stdout",
     "output_type": "stream",
     "text": [
      "--------------------------------------------------------------------------------\n",
      "\n",
      "\n",
      "--- Searching for: 'Why is cybersecurity important?' ---\n",
      "\n",
      "Top 3 Results:\n"
     ]
    },
    {
     "data": {
      "text/plain": [
       "   similarity                                               text\n",
       "0      0.5696  This text discusses cybersecurity and data pri...\n",
       "1      0.4289  This text discusses cybersecurity and data pri...\n",
       "2      0.3749  This text discusses cybersecurity and data pri..."
      ],
      "text/html": [
       "<div>\n",
       "<style scoped>\n",
       "    .dataframe tbody tr th:only-of-type {\n",
       "        vertical-align: middle;\n",
       "    }\n",
       "\n",
       "    .dataframe tbody tr th {\n",
       "        vertical-align: top;\n",
       "    }\n",
       "\n",
       "    .dataframe thead th {\n",
       "        text-align: right;\n",
       "    }\n",
       "</style>\n",
       "<table border=\"1\" class=\"dataframe\">\n",
       "  <thead>\n",
       "    <tr style=\"text-align: right;\">\n",
       "      <th></th>\n",
       "      <th>similarity</th>\n",
       "      <th>text</th>\n",
       "    </tr>\n",
       "  </thead>\n",
       "  <tbody>\n",
       "    <tr>\n",
       "      <th>0</th>\n",
       "      <td>0.5696</td>\n",
       "      <td>This text discusses cybersecurity and data pri...</td>\n",
       "    </tr>\n",
       "    <tr>\n",
       "      <th>1</th>\n",
       "      <td>0.4289</td>\n",
       "      <td>This text discusses cybersecurity and data pri...</td>\n",
       "    </tr>\n",
       "    <tr>\n",
       "      <th>2</th>\n",
       "      <td>0.3749</td>\n",
       "      <td>This text discusses cybersecurity and data pri...</td>\n",
       "    </tr>\n",
       "  </tbody>\n",
       "</table>\n",
       "</div>"
      ]
     },
     "metadata": {},
     "output_type": "display_data"
    },
    {
     "name": "stdout",
     "output_type": "stream",
     "text": [
      "\n",
      "Topic Distribution:\n"
     ]
    },
    {
     "data": {
      "text/plain": [
       "main_topic\n",
       "cybersecurity and data privacy    3\n",
       "Name: count, dtype: int64"
      ]
     },
     "metadata": {},
     "output_type": "display_data"
    },
    {
     "name": "stdout",
     "output_type": "stream",
     "text": [
      "--------------------------------------------------------------------------------\n",
      "\n",
      "\n",
      "--- Searching for: 'What space can you do quantum computing in?' ---\n",
      "\n",
      "Top 3 Results:\n"
     ]
    },
    {
     "data": {
      "text/plain": [
       "   similarity                                               text\n",
       "0      0.5233  This text discusses quantum computing and phys...\n",
       "1      0.5048  This text discusses quantum computing and phys...\n",
       "2      0.4465  This text discusses artificial intelligence an..."
      ],
      "text/html": [
       "<div>\n",
       "<style scoped>\n",
       "    .dataframe tbody tr th:only-of-type {\n",
       "        vertical-align: middle;\n",
       "    }\n",
       "\n",
       "    .dataframe tbody tr th {\n",
       "        vertical-align: top;\n",
       "    }\n",
       "\n",
       "    .dataframe thead th {\n",
       "        text-align: right;\n",
       "    }\n",
       "</style>\n",
       "<table border=\"1\" class=\"dataframe\">\n",
       "  <thead>\n",
       "    <tr style=\"text-align: right;\">\n",
       "      <th></th>\n",
       "      <th>similarity</th>\n",
       "      <th>text</th>\n",
       "    </tr>\n",
       "  </thead>\n",
       "  <tbody>\n",
       "    <tr>\n",
       "      <th>0</th>\n",
       "      <td>0.5233</td>\n",
       "      <td>This text discusses quantum computing and phys...</td>\n",
       "    </tr>\n",
       "    <tr>\n",
       "      <th>1</th>\n",
       "      <td>0.5048</td>\n",
       "      <td>This text discusses quantum computing and phys...</td>\n",
       "    </tr>\n",
       "    <tr>\n",
       "      <th>2</th>\n",
       "      <td>0.4465</td>\n",
       "      <td>This text discusses artificial intelligence an...</td>\n",
       "    </tr>\n",
       "  </tbody>\n",
       "</table>\n",
       "</div>"
      ]
     },
     "metadata": {},
     "output_type": "display_data"
    },
    {
     "name": "stdout",
     "output_type": "stream",
     "text": [
      "\n",
      "Topic Distribution:\n"
     ]
    },
    {
     "data": {
      "text/plain": [
       "main_topic\n",
       "quantum computing and physics                   2\n",
       "artificial intelligence and machine learning    1\n",
       "Name: count, dtype: int64"
      ]
     },
     "metadata": {},
     "output_type": "display_data"
    },
    {
     "name": "stdout",
     "output_type": "stream",
     "text": [
      "--------------------------------------------------------------------------------\n"
     ]
    }
   ],
   "execution_count": 23
  },
  {
   "metadata": {},
   "cell_type": "markdown",
   "source": [
    "#### 10. Advanced Analysis\n",
    "Let's do some more advanced analysis of our document collection and search results:"
   ],
   "id": "884ebe9c833df014"
  },
  {
   "metadata": {
    "ExecuteTime": {
     "end_time": "2025-05-15T03:42:43.882561Z",
     "start_time": "2025-05-15T03:42:43.785692Z"
    }
   },
   "cell_type": "code",
   "source": [
    "# Topic distribution in full document collection\n",
    "print(\"Topic Distribution in Document Collection:\")\n",
    "topic_dist = documents_df['main_topic'].value_counts()\n",
    "display(topic_dist)\n",
    "\n",
    "# Create a pie chart of topics\n",
    "plt.figure(figsize=(10, 6))\n",
    "plt.pie(topic_dist, labels=topic_dist.index, autopct='%1.1f%%')\n",
    "plt.title('Topic Distribution in Document Collection')\n",
    "plt.tight_layout()\n",
    "plt.show()\n",
    "\n",
    "# Check which documents don't contain any additional topics\n",
    "docs_no_additional = documents_df[documents_df['additional_topics'].apply(lambda x: len(x) == 0)]\n",
    "print(f\"\\nNumber of documents with no additional topics: {len(docs_no_additional)}\")\n",
    "display(docs_no_additional[['document_id', 'text', 'main_topic']].head(3))"
   ],
   "id": "2bdfa75e627712c0",
   "outputs": [
    {
     "name": "stdout",
     "output_type": "stream",
     "text": [
      "Topic Distribution in Document Collection:\n"
     ]
    },
    {
     "data": {
      "text/plain": [
       "main_topic\n",
       "artificial intelligence and machine learning       3\n",
       "cybersecurity and data privacy                     3\n",
       "space exploration and astronomy                    2\n",
       "quantum computing and physics                      2\n",
       "biotechnology and genetic engineering              2\n",
       "cryptocurrency and blockchain technology           1\n",
       "climate change and environmental sustainability    1\n",
       "renewable energy technologies                      1\n",
       "Name: count, dtype: int64"
      ]
     },
     "metadata": {},
     "output_type": "display_data"
    },
    {
     "data": {
      "text/plain": [
       "<Figure size 1000x600 with 1 Axes>"
      ],
      "image/png": "[encoded data removed]"
     },
     "metadata": {},
     "output_type": "display_data"
    },
    {
     "name": "stdout",
     "output_type": "stream",
     "text": [
      "\n",
      "Number of documents with no additional topics: 4\n"
     ]
    },
    {
     "data": {
      "text/plain": [
       "    document_id                                               text  \\\n",
       "0             0  This text discusses cryptocurrency and blockch...   \n",
       "10           10  This text discusses artificial intelligence an...   \n",
       "12           12  This text discusses cybersecurity and data pri...   \n",
       "\n",
       "                                      main_topic  \n",
       "0       cryptocurrency and blockchain technology  \n",
       "10  artificial intelligence and machine learning  \n",
       "12                cybersecurity and data privacy  "
      ],
      "text/html": [
       "<div>\n",
       "<style scoped>\n",
       "    .dataframe tbody tr th:only-of-type {\n",
       "        vertical-align: middle;\n",
       "    }\n",
       "\n",
       "    .dataframe tbody tr th {\n",
       "        vertical-align: top;\n",
       "    }\n",
       "\n",
       "    .dataframe thead th {\n",
       "        text-align: right;\n",
       "    }\n",
       "</style>\n",
       "<table border=\"1\" class=\"dataframe\">\n",
       "  <thead>\n",
       "    <tr style=\"text-align: right;\">\n",
       "      <th></th>\n",
       "      <th>document_id</th>\n",
       "      <th>text</th>\n",
       "      <th>main_topic</th>\n",
       "    </tr>\n",
       "  </thead>\n",
       "  <tbody>\n",
       "    <tr>\n",
       "      <th>0</th>\n",
       "      <td>0</td>\n",
       "      <td>This text discusses cryptocurrency and blockch...</td>\n",
       "      <td>cryptocurrency and blockchain technology</td>\n",
       "    </tr>\n",
       "    <tr>\n",
       "      <th>10</th>\n",
       "      <td>10</td>\n",
       "      <td>This text discusses artificial intelligence an...</td>\n",
       "      <td>artificial intelligence and machine learning</td>\n",
       "    </tr>\n",
       "    <tr>\n",
       "      <th>12</th>\n",
       "      <td>12</td>\n",
       "      <td>This text discusses cybersecurity and data pri...</td>\n",
       "      <td>cybersecurity and data privacy</td>\n",
       "    </tr>\n",
       "  </tbody>\n",
       "</table>\n",
       "</div>"
      ]
     },
     "metadata": {},
     "output_type": "display_data"
    }
   ],
   "execution_count": 24
  },
  {
   "metadata": {},
   "cell_type": "markdown",
   "source": "# RAG",
   "id": "9bae74fe20939faa"
  },
  {
   "metadata": {
    "ExecuteTime": {
     "end_time": "2025-05-15T03:42:44.399161Z",
     "start_time": "2025-05-15T03:42:43.950544Z"
    }
   },
   "cell_type": "code",
   "source": [
    "from transformers import AutoTokenizer\n",
    "from transformers import AutoModelForCausalLM\n",
    "\n",
    "model_id = \"CohereLabs/c4ai-command-r-v01\"\n",
    "#model_id = \"CohereLabs/c4ai-command-r-v01-4bit\"\n",
    "#model = AutoModelForCausalLM.from_pretrained(model_id)\n",
    "c4ai_tokenizer = AutoTokenizer.from_pretrained(model_id)\n",
    "\n",
    "# define conversation input:\n",
    "conversation = [\n",
    "    {\"role\": \"user\", \"content\": query}\n",
    "]\n",
    "truncated = results_df[[\"main_topic\",\"text\"]]\n",
    "truncated.rename(columns={\"main_topic\": \"title\"}, inplace=True)\n",
    "truncated"
   ],
   "id": "97b21290151a9b11",
   "outputs": [
    {
     "name": "stderr",
     "output_type": "stream",
     "text": [
      "/var/folders/fp/y06qn5j51zn8mc1wjdjd82vh0000gn/T/ipykernel_2643/679881178.py:14: SettingWithCopyWarning: \n",
      "A value is trying to be set on a copy of a slice from a DataFrame\n",
      "\n",
      "See the caveats in the documentation: https://pandas.pydata.org/pandas-docs/stable/user_guide/indexing.html#returning-a-view-versus-a-copy\n",
      "  truncated.rename(columns={\"main_topic\": \"title\"}, inplace=True)\n"
     ]
    },
    {
     "data": {
      "text/plain": [
       "                                          title  \\\n",
       "0                 quantum computing and physics   \n",
       "1                 quantum computing and physics   \n",
       "2  artificial intelligence and machine learning   \n",
       "\n",
       "                                                text  \n",
       "0  This text discusses quantum computing and phys...  \n",
       "1  This text discusses quantum computing and phys...  \n",
       "2  This text discusses artificial intelligence an...  "
      ],
      "text/html": [
       "<div>\n",
       "<style scoped>\n",
       "    .dataframe tbody tr th:only-of-type {\n",
       "        vertical-align: middle;\n",
       "    }\n",
       "\n",
       "    .dataframe tbody tr th {\n",
       "        vertical-align: top;\n",
       "    }\n",
       "\n",
       "    .dataframe thead th {\n",
       "        text-align: right;\n",
       "    }\n",
       "</style>\n",
       "<table border=\"1\" class=\"dataframe\">\n",
       "  <thead>\n",
       "    <tr style=\"text-align: right;\">\n",
       "      <th></th>\n",
       "      <th>title</th>\n",
       "      <th>text</th>\n",
       "    </tr>\n",
       "  </thead>\n",
       "  <tbody>\n",
       "    <tr>\n",
       "      <th>0</th>\n",
       "      <td>quantum computing and physics</td>\n",
       "      <td>This text discusses quantum computing and phys...</td>\n",
       "    </tr>\n",
       "    <tr>\n",
       "      <th>1</th>\n",
       "      <td>quantum computing and physics</td>\n",
       "      <td>This text discusses quantum computing and phys...</td>\n",
       "    </tr>\n",
       "    <tr>\n",
       "      <th>2</th>\n",
       "      <td>artificial intelligence and machine learning</td>\n",
       "      <td>This text discusses artificial intelligence an...</td>\n",
       "    </tr>\n",
       "  </tbody>\n",
       "</table>\n",
       "</div>"
      ]
     },
     "execution_count": 25,
     "metadata": {},
     "output_type": "execute_result"
    }
   ],
   "execution_count": 25
  },
  {
   "metadata": {
    "ExecuteTime": {
     "end_time": "2025-05-15T03:42:44.444976Z",
     "start_time": "2025-05-15T03:42:44.441791Z"
    }
   },
   "cell_type": "code",
   "source": [
    "docs = truncated.to_dict(orient=\"records\")\n",
    "docs\n"
   ],
   "id": "eb327ac63adc4b6b",
   "outputs": [
    {
     "data": {
      "text/plain": [
       "[{'title': np.str_('quantum computing and physics'),\n",
       "  'text': 'This text discusses quantum computing and physics with connections to cryptocurrency and blockchain technology and space exploration and astronomy. This subject has gained considerable attention in recent years.'},\n",
       " {'title': np.str_('quantum computing and physics'),\n",
       "  'text': 'This text discusses quantum computing and physics with connections to renewable energy technologies and biotechnology and genetic engineering. There are still many unanswered questions in this domain. Recent advances have accelerated progress significantly. There are still many unanswered questions in this domain.'},\n",
       " {'title': np.str_('artificial intelligence and machine learning'),\n",
       "  'text': 'This text discusses artificial intelligence and machine learning with connections to cybersecurity and data privacy and quantum computing and physics. The latest research in this field shows promising results. Interdisciplinary approaches are proving valuable in this context.'}]"
      ]
     },
     "execution_count": 26,
     "metadata": {},
     "output_type": "execute_result"
    }
   ],
   "execution_count": 26
  },
  {
   "metadata": {
    "ExecuteTime": {
     "end_time": "2025-05-15T03:42:44.475164Z",
     "start_time": "2025-05-15T03:42:44.472271Z"
    }
   },
   "cell_type": "code",
   "source": [
    "# render the tool use prompt as a string:\n",
    "grounded_generation_prompt = c4ai_tokenizer.apply_grounded_generation_template(\n",
    "    conversation,\n",
    "    documents=docs,\n",
    "    citation_mode=\"accurate\", # or \"fast\"\n",
    "    tokenize=False,\n",
    "    add_generation_prompt=True,\n",
    ")\n",
    "\n",
    "print(grounded_generation_prompt)"
   ],
   "id": "fe0958c6a7c12695",
   "outputs": [
    {
     "name": "stdout",
     "output_type": "stream",
     "text": [
      "<BOS_TOKEN><|START_OF_TURN_TOKEN|><|SYSTEM_TOKEN|># Safety Preamble\n",
      "The instructions in this section override those in the task description and style guide sections. Don't answer questions that are harmful or immoral.\n",
      "\n",
      "# System Preamble\n",
      "## Basic Rules\n",
      "You are a powerful conversational AI trained by Cohere to help people. You are augmented by a number of tools, and your job is to use and consume the output of these tools to best help the user. You will see a conversation history between yourself and a user, ending with an utterance from the user. You will then see a specific instruction instructing you what kind of response to generate. When you answer the user's requests, you cite your sources in your answers, according to those instructions.\n",
      "\n",
      "# User Preamble\n",
      "## Task and Context\n",
      "You help people answer their questions and other requests interactively. You will be asked a very wide array of requests on all kinds of topics. You will be equipped with a wide range of search engines or similar tools to help you, which you use to research your answer. You should focus on serving the user's needs as best you can, which will be wide-ranging.\n",
      "\n",
      "## Style Guide\n",
      "Unless the user asks for a different style of answer, you should answer in full sentences, using proper grammar and spelling.<|END_OF_TURN_TOKEN|><|START_OF_TURN_TOKEN|><|USER_TOKEN|>What space can you do quantum computing in?<|END_OF_TURN_TOKEN|><|START_OF_TURN_TOKEN|><|SYSTEM_TOKEN|><results>\n",
      "Document: 0\n",
      "title: quantum computing and physics\n",
      "text: This text discusses quantum computing and physics with connections to cryptocurrency and blockchain technology and space exploration and astronomy. This subject has gained considerable attention in recent years.\n",
      "\n",
      "Document: 1\n",
      "title: quantum computing and physics\n",
      "text: This text discusses quantum computing and physics with connections to renewable energy technologies and biotechnology and genetic engineering. There are still many unanswered questions in this domain. Recent advances have accelerated progress significantly. There are still many unanswered questions in this domain.\n",
      "\n",
      "Document: 2\n",
      "title: artificial intelligence and machine learning\n",
      "text: This text discusses artificial intelligence and machine learning with connections to cybersecurity and data privacy and quantum computing and physics. The latest research in this field shows promising results. Interdisciplinary approaches are proving valuable in this context.\n",
      "</results><|END_OF_TURN_TOKEN|><|START_OF_TURN_TOKEN|><|SYSTEM_TOKEN|>Carefully perform the following instructions, in order, starting each with a new line.\n",
      "Firstly, Decide which of the retrieved documents are relevant to the user's last input by writing 'Relevant Documents:' followed by comma-separated list of document numbers. If none are relevant, you should instead write 'None'.\n",
      "Secondly, Decide which of the retrieved documents contain facts that should be cited in a good answer to the user's last input by writing 'Cited Documents:' followed a comma-separated list of document numbers. If you dont want to cite any of them, you should instead write 'None'.\n",
      "Thirdly, Write 'Answer:' followed by a response to the user's last input in high quality natural english. Use the retrieved documents to help you. Do not insert any citations or grounding markup.\n",
      "Finally, Write 'Grounded answer:' followed by a response to the user's last input in high quality natural english. Use the symbols <co: doc> and </co: doc> to indicate when a fact comes from a document in the search result, e.g <co: 0>my fact</co: 0> for a fact from document 0.<|END_OF_TURN_TOKEN|><|START_OF_TURN_TOKEN|><|CHATBOT_TOKEN|>\n"
     ]
    }
   ],
   "execution_count": 27
  },
  {
   "metadata": {},
   "cell_type": "markdown",
   "source": "# Important to note, that i'm removing all documents and having prompt generation reindex them from 0...N",
   "id": "4f4f50d7af3a75ea"
  },
  {
   "metadata": {
    "ExecuteTime": {
     "end_time": "2025-05-15T03:55:58.142375Z",
     "start_time": "2025-05-15T03:55:58.131755Z"
    }
   },
   "cell_type": "code",
   "source": "docs[0]",
   "id": "722a973d769dc761",
   "outputs": [
    {
     "data": {
      "text/plain": [
       "{'title': np.str_('quantum computing and physics'),\n",
       " 'text': 'This text discusses quantum computing and physics with connections to cryptocurrency and blockchain technology and space exploration and astronomy. This subject has gained considerable attention in recent years.'}"
      ]
     },
     "execution_count": 46,
     "metadata": {},
     "output_type": "execute_result"
    }
   ],
   "execution_count": 46
  },
  {
   "metadata": {
    "ExecuteTime": {
     "end_time": "2025-05-15T03:47:59.877639Z",
     "start_time": "2025-05-15T03:47:54.283808Z"
    }
   },
   "cell_type": "code",
   "source": [
    "from dotenv import load_dotenv\n",
    "import os\n",
    "\n",
    "load_dotenv()\n",
    "\n",
    "key = os.getenv(\"OPENAI_API_KEY\")\n",
    "org = os.getenv(\"OPENAI_ORGANIZATION\")\n",
    "\n",
    "print(f\"Key: {key[0:16]}\")\n",
    "\n",
    "from openai import OpenAI\n",
    "client = OpenAI(api_key=key, organization=org)\n",
    "\n",
    "\n",
    "print(\"Query: \" + query)\n",
    "response = client.responses.create(\n",
    "    model=\"gpt-4.1-mini\",\n",
    "    input=grounded_generation_prompt\n",
    ")\n",
    "print(response.output_text)"
   ],
   "id": "73c0dcaba16fc158",
   "outputs": [
    {
     "name": "stdout",
     "output_type": "stream",
     "text": [
      "Key: sk-proj-etnoLb9k\n",
      "Query: What space can you do quantum computing in?\n",
      "Relevant Documents: 0  \n",
      "Cited Documents: 0  \n",
      "Answer:  \n",
      "Quantum computing can be done in various contexts related to physics, including areas connected to space exploration and astronomy. Quantum computers operate using quantum mechanics principles, which are applicable in analyzing complex physical phenomena often found in space-related research and other scientific fields. Essentially, the \"space\" where quantum computing is utilized spans both physical research environments on Earth and conceptual or exploratory fields such as space science.\n",
      "\n",
      "Grounded answer:  \n",
      "Quantum computing operates within the realm of quantum physics and has applications that extend into fields related to space exploration and astronomy. This means quantum computing is done in physical and conceptual spaces that involve studying and utilizing quantum mechanical effects, often in connection with analyzing data and phenomena from space-related research<co: 0>quantum computing and physics with connections to cryptocurrency and blockchain technology and space exploration and astronomy</co: 0>.\n"
     ]
    }
   ],
   "execution_count": 35
  }
 ],
 "metadata": {
  "kernelspec": {
   "display_name": "Python 3",
   "language": "python",
   "name": "python3"
  },
  "language_info": {
   "codemirror_mode": {
    "name": "ipython",
    "version": 2
   },
   "file_extension": ".py",
   "mimetype": "text/x-python",
   "name": "python",
   "nbconvert_exporter": "python",
   "pygments_lexer": "ipython2",
   "version": "2.7.6"
  }
 },
 "nbformat": 4,
 "nbformat_minor": 5
}
